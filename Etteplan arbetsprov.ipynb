{
 "cells": [
  {
   "cell_type": "code",
   "execution_count": 5,
   "id": "54256c76",
   "metadata": {},
   "outputs": [],
   "source": [
    "import xml.etree.ElementTree as ET\n",
    "\n",
    "def retrieve_translation(file_name): \n",
    "    tree = ET.parse(file_name)\n",
    "    root = tree.getroot()\n",
    "\n",
    "    for trans_unit in root.findall(\".//trans-unit/[@id='42007']\"):\n",
    "        if trans_unit is not None:\n",
    "            target_value = trans_unit.find('target').text\n",
    "        else:\n",
    "            target_value = f'Could not find translation for trans-unit:{trans_unit.get(\"id\")}'\n",
    "    \n",
    "    return target_value\n",
    "\n",
    "def write_to_file(value, file_name):\n",
    "    new_file = 'target_translation.txt'\n",
    "    \n",
    "    with open(new_file, 'w', encoding='UTF-8') as file:\n",
    "        file.write(value)\n",
    "        \n",
    "file_name = 'sma_gentext.xml'\n",
    "translation = retrieve_translation(file_name)\n",
    "write_to_file(translation, file_name)\n",
    "    \n"
   ]
  },
  {
   "cell_type": "code",
   "execution_count": null,
   "id": "a2d78512",
   "metadata": {},
   "outputs": [],
   "source": []
  }
 ],
 "metadata": {
  "kernelspec": {
   "display_name": "Python 3 (ipykernel)",
   "language": "python",
   "name": "python3"
  },
  "language_info": {
   "codemirror_mode": {
    "name": "ipython",
    "version": 3
   },
   "file_extension": ".py",
   "mimetype": "text/x-python",
   "name": "python",
   "nbconvert_exporter": "python",
   "pygments_lexer": "ipython3",
   "version": "3.9.13"
  }
 },
 "nbformat": 4,
 "nbformat_minor": 5
}
